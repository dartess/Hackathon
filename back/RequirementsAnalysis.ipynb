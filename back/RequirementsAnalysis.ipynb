{
 "cells": [
  {
   "cell_type": "code",
   "execution_count": 1,
   "metadata": {},
   "outputs": [
    {
     "ename": "ModuleNotFoundError",
     "evalue": "No module named 'pymorphy2'",
     "output_type": "error",
     "traceback": [
      "\u001b[1;31m---------------------------------------------------------------------------\u001b[0m",
      "\u001b[1;31mModuleNotFoundError\u001b[0m                       Traceback (most recent call last)",
      "\u001b[1;32m<ipython-input-1-cfd7a70a5b19>\u001b[0m in \u001b[0;36m<module>\u001b[1;34m\u001b[0m\n\u001b[0;32m      1\u001b[0m \u001b[1;32mimport\u001b[0m \u001b[0mnumpy\u001b[0m \u001b[1;32mas\u001b[0m \u001b[0mnp\u001b[0m\u001b[1;33m\u001b[0m\u001b[1;33m\u001b[0m\u001b[0m\n\u001b[0;32m      2\u001b[0m \u001b[1;32mimport\u001b[0m \u001b[0mre\u001b[0m\u001b[1;33m\u001b[0m\u001b[1;33m\u001b[0m\u001b[0m\n\u001b[1;32m----> 3\u001b[1;33m \u001b[1;32mimport\u001b[0m \u001b[0mpymorphy2\u001b[0m\u001b[1;33m\u001b[0m\u001b[1;33m\u001b[0m\u001b[0m\n\u001b[0m\u001b[0;32m      4\u001b[0m \u001b[1;32mfrom\u001b[0m \u001b[0mscipy\u001b[0m\u001b[1;33m.\u001b[0m\u001b[0mspatial\u001b[0m \u001b[1;32mimport\u001b[0m \u001b[0mdistance\u001b[0m\u001b[1;33m\u001b[0m\u001b[1;33m\u001b[0m\u001b[0m\n\u001b[0;32m      5\u001b[0m \u001b[1;32mfrom\u001b[0m \u001b[0mmatplotlib\u001b[0m \u001b[1;32mimport\u001b[0m \u001b[0mpylab\u001b[0m \u001b[1;32mas\u001b[0m \u001b[0mplt\u001b[0m\u001b[1;33m\u001b[0m\u001b[1;33m\u001b[0m\u001b[0m\n",
      "\u001b[1;31mModuleNotFoundError\u001b[0m: No module named 'pymorphy2'"
     ]
    }
   ],
   "source": [
    "import numpy as np\n",
    "import re\n",
    "import pymorphy2\n",
    "from scipy.spatial import distance\n",
    "from matplotlib import pylab as plt\n",
    "import xlrd\n",
    "import re\n",
    "import json\n",
    "import pprint\n",
    "import urllib.request"
   ]
  },
  {
   "cell_type": "code",
   "execution_count": 2,
   "metadata": {},
   "outputs": [],
   "source": [
    "# \"чистка\" строки от html-тегов\n",
    "def cleanhtml(raw_html):\n",
    "    cleanr = re.compile('<.*?>')\n",
    "    cleantext = re.sub(cleanr, '', raw_html)\n",
    "    return cleantext"
   ]
  },
  {
   "cell_type": "code",
   "execution_count": 3,
   "metadata": {},
   "outputs": [],
   "source": [
    "# требования по вакансиям с РосТруда\n",
    "def read_from_rtrud(pname, ccode): #pname - навание вакансии, ccode - код города\n",
    "    pname = pname.encode(\"utf-8\")\n",
    "    pname = urllib.request.quote(pname)\n",
    "\n",
    "    with urllib.request.urlopen(\n",
    "            \"http://opendata.trudvsem.ru/api/v1/vacancies/region/{}00000000000?text={}\"\n",
    "                    .format(ccode, pname)) as url:\n",
    "        s = url.read()\n",
    "        s = s.decode('utf-8')\n",
    "\n",
    "\n",
    "    # перевод из json в python-объект\n",
    "    python_obj = json.loads(s)\n",
    "\n",
    "    condition = True\n",
    "    count = 0\n",
    "    complist = []\n",
    "    \n",
    "    if 'vacancies' not in python_obj['results']:\n",
    "        return complist\n",
    "    \n",
    "    for key in python_obj['results']['vacancies']:\n",
    "        comp = key['vacancy']['duty']\n",
    "        comp = cleanhtml(comp)\n",
    "        comp = comp.split(';')\n",
    "        # фильтрует элементы по длине\n",
    "        for value in comp:\n",
    "            if len(value) <= 6:\n",
    "                continue\n",
    "            else:\n",
    "                value = ''.join(value)\n",
    "                value = value.strip()\n",
    "                if len(value) <=6:\n",
    "                    continue\n",
    "                complist.append(value)\n",
    "                # print(value)\n",
    "                # print('\\n')\n",
    "    return complist"
   ]
  },
  {
   "cell_type": "code",
   "execution_count": 4,
   "metadata": {},
   "outputs": [],
   "source": [
    "# парсинг компетенций из вакансии по URL\n",
    "def parse_comp(vacurl):\n",
    "    with urllib.request.urlopen(\n",
    "            vacurl) as url:\n",
    "        s = url.read()\n",
    "        s = s.decode('utf-8')\n",
    "        s = cleanhtml(s)\n",
    "    complist = re.findall('Требования:.*?Условия:', s)\n",
    "    # убираем слова \"Требования\" и \"Условия\" и распиливаем строку в список\n",
    "    # по одному URL несколько вакансий, поэтому здесь цикл\n",
    "    comps = []\n",
    "    for comp in complist:\n",
    "        comp = comp.replace('Требования:','')\n",
    "        comp = comp.replace('Условия:','')\n",
    "        comp = comp.split(';')\n",
    "        comps += comp\n",
    "    return comps"
   ]
  },
  {
   "cell_type": "code",
   "execution_count": 5,
   "metadata": {},
   "outputs": [],
   "source": [
    "# требования по вакансиям с HH\n",
    "def read_from_hh(pname, ccode): #pname - навание вакансии, ccode - код города (на hh своя нумерация городов)\n",
    "    pname = pname.encode(\"utf-8\")\n",
    "    pname = urllib.request.quote(pname)\n",
    "\n",
    "    with urllib.request.urlopen(\n",
    "            \"https://api.hh.ru/vacancies/?text={}&area={}\"\n",
    "                    .format(pname, ccode)) as url:\n",
    "        s = url.read()\n",
    "        s = s.decode('utf-8')\n",
    "\n",
    "\n",
    "    # перевод из json в python-объект\n",
    "    python_obj = json.loads(s)\n",
    "\n",
    "    condition = True\n",
    "    count = 0\n",
    "    complist = []\n",
    "\n",
    "    for key in python_obj['items']:\n",
    "        comp = parse_comp(key['url'])\n",
    "        # фильтрует элементы по длине\n",
    "        for value in comp:\n",
    "            if len(value) <= 6:\n",
    "                continue\n",
    "            else:\n",
    "                value = ''.join(value)\n",
    "                value = value.strip()\n",
    "                if len(value) <=6:\n",
    "                    continue\n",
    "                complist.append(value)\n",
    "                # print(value)\n",
    "                # print('\\n')\n",
    "    return complist"
   ]
  },
  {
   "cell_type": "code",
   "execution_count": 7,
   "metadata": {},
   "outputs": [],
   "source": [
    "# сплошной текст разбивается на отдельные строки, а каждая строка - на отдельные слова, приведенные к нормальной форме\n",
    "def AnalyText(text_list):\n",
    "    result = []\n",
    "    word_dict = {}\n",
    "    obshc_word = []\n",
    "    N=0\n",
    "    morph = pymorphy2.MorphAnalyzer()\n",
    "    word_in_str = []\n",
    "    \n",
    "    for line in text_list:\n",
    "        d=re.split('\\W+', line.lower())       \n",
    "        for w in d:\n",
    "            if len(w) > 2:\n",
    "                asd=morph.parse(w)[0].normal_form\n",
    "                word_dict[asd] = word_dict.get(asd,0) + 1\n",
    "                word_in_str.append(asd)\n",
    "                N += 1\n",
    "        result.append(list(word_in_str))\n",
    "        word_in_str.clear()\n",
    "        \n",
    "        \n",
    "    # формирование списка слов, которые встречаются в тексте наиболее часто\n",
    "    for key, value in word_dict.items():\n",
    "        if value*1000/N > 8:\n",
    "            obshc_word.append(key)\n",
    "    \n",
    "    return result, obshc_word"
   ]
  },
  {
   "cell_type": "code",
   "execution_count": 8,
   "metadata": {},
   "outputs": [],
   "source": [
    "# \"чистка\" пустых элементов списка\n",
    "def cler_space(res):\n",
    "    for strin in res:\n",
    "        while '' in strin:\n",
    "            strin.remove('')\n",
    "    return res"
   ]
  },
  {
   "cell_type": "code",
   "execution_count": 9,
   "metadata": {},
   "outputs": [],
   "source": [
    "# удаление слов, которые встречаются в тексте наиболее часто\n",
    "def delete_obshc(list_comp, word_obshc): # list_comp - список компетенций, разбитый по словам; word_obshc - список слов для удаления\n",
    "    result = []\n",
    "    for string in list_comp:\n",
    "        result.append(list(set(string).difference(set(word_obshc))))\n",
    "    return result"
   ]
  },
  {
   "cell_type": "code",
   "execution_count": 10,
   "metadata": {},
   "outputs": [],
   "source": [
    "# формирование матрциы с количеством общих слов для каждой пары компетенций Костромская область - Лидер\n",
    "def interseption(res1, res2):\n",
    "    result = []\n",
    "    for competen1 in res1:\n",
    "        result_string = []\n",
    "        for competen2 in res2:\n",
    "            result_string.append(len(set.intersection(set(competen1), set(competen2))))\n",
    "        result.append(result_string)\n",
    "    return result"
   ]
  },
  {
   "cell_type": "code",
   "execution_count": 11,
   "metadata": {},
   "outputs": [],
   "source": [
    "# формирование матрицы соответствия с учетом длин строк\n",
    "def analitic_transform(analitic_massive, res_word_KO, res_word_lid):\n",
    "    for i, string in enumerate(analitic_massive):\n",
    "        for j, value in  enumerate(string):\n",
    "            #print(len(res_word_KO[j]), 'index', j)\n",
    "            #print(len(res_word_KO[i]), 'index', i)\n",
    "            #print()\n",
    "            if len(res_word_KO[j]) == 0 or len(res_word_lid[i]) == 0:\n",
    "                analitic_massive[i][j] = 0\n",
    "            else:\n",
    "                #print(len(res_word_KO[j]))\n",
    "                #print(len(res_word_lid[i]))\n",
    "                #print()\n",
    "                analitic_massive[i][j] = 1.*(value/len(res_word_KO[j]))*(value/len(res_word_lid[i]))\n",
    "    return analitic_massive"
   ]
  },
  {
   "cell_type": "code",
   "execution_count": 12,
   "metadata": {},
   "outputs": [],
   "source": [
    "# форомирование списков индексов компетенций для 3 групп\n",
    "# 1 - Только лидерские компетенции\n",
    "# 2 - Только костромские компетенции\n",
    "# 3 - Компетенции, характерные для обеих групп\n",
    "def start_split(analitic_massive, res_KO, res_lid):\n",
    "    competention_lid = []\n",
    "    competention_KO = []\n",
    "    competention_inters = {}\n",
    "    index_KO = set(range(0, len(res_KO), 1))\n",
    "    for index, string_value in enumerate(analitic_massive):\n",
    "        index_max_list = []\n",
    "        if max(string_value)>0.15:\n",
    "            max_value = max(string_value)\n",
    "        else:\n",
    "            max_value = 1\n",
    "        for index_ko, value in enumerate(string_value):\n",
    "            if value == max_value:\n",
    "                index_max_list.append(index_ko)\n",
    "        if len(index_max_list)==0:\n",
    "            competention_lid.append(index)\n",
    "        else:\n",
    "            competention_inters[index] = index_max_list\n",
    "    for list_values in competention_inters.values():\n",
    "        competention_KO = index_KO.difference(list_values)\n",
    "    return competention_lid, competention_KO, competention_inters"
   ]
  },
  {
   "cell_type": "code",
   "execution_count": 16,
   "metadata": {},
   "outputs": [
    {
     "ename": "NameError",
     "evalue": "name 'urllib' is not defined",
     "output_type": "error",
     "traceback": [
      "\u001b[1;31m---------------------------------------------------------------------------\u001b[0m",
      "\u001b[1;31mNameError\u001b[0m                                 Traceback (most recent call last)",
      "\u001b[1;32m<ipython-input-16-e7bccef2dcc6>\u001b[0m in \u001b[0;36m<module>\u001b[1;34m\u001b[0m\n\u001b[0;32m      1\u001b[0m \u001b[1;31m# получение компетенций Костромской области с ресурсов РосТруд и HeadHunter\u001b[0m\u001b[1;33m\u001b[0m\u001b[1;33m\u001b[0m\u001b[1;33m\u001b[0m\u001b[0m\n\u001b[1;32m----> 2\u001b[1;33m \u001b[0mtext_KO_R_Trud\u001b[0m \u001b[1;33m=\u001b[0m \u001b[0mread_from_rtrud\u001b[0m\u001b[1;33m(\u001b[0m\u001b[1;34m'Оператор станков с программным управлением'\u001b[0m\u001b[1;33m,\u001b[0m \u001b[1;34m'44'\u001b[0m\u001b[1;33m)\u001b[0m\u001b[1;33m\u001b[0m\u001b[1;33m\u001b[0m\u001b[0m\n\u001b[0m\u001b[0;32m      3\u001b[0m \u001b[0mtext_KO_HH\u001b[0m \u001b[1;33m=\u001b[0m \u001b[0mread_from_hh\u001b[0m\u001b[1;33m(\u001b[0m\u001b[1;34m'Оператор станков с программным управлением'\u001b[0m\u001b[1;33m,\u001b[0m \u001b[1;34m'1771'\u001b[0m\u001b[1;33m)\u001b[0m \u001b[1;31m# 1771 - Костромская область\u001b[0m\u001b[1;33m\u001b[0m\u001b[1;33m\u001b[0m\u001b[0m\n\u001b[0;32m      4\u001b[0m \u001b[0mtext_KO\u001b[0m \u001b[1;33m=\u001b[0m \u001b[0mlist\u001b[0m\u001b[1;33m(\u001b[0m\u001b[0mset\u001b[0m\u001b[1;33m.\u001b[0m\u001b[0munion\u001b[0m\u001b[1;33m(\u001b[0m\u001b[0mset\u001b[0m\u001b[1;33m(\u001b[0m\u001b[0mtext_KO_R_Trud\u001b[0m\u001b[1;33m)\u001b[0m\u001b[1;33m,\u001b[0m \u001b[0mset\u001b[0m\u001b[1;33m(\u001b[0m\u001b[0mtext_KO_HH\u001b[0m\u001b[1;33m)\u001b[0m\u001b[1;33m)\u001b[0m\u001b[1;33m)\u001b[0m\u001b[1;33m\u001b[0m\u001b[1;33m\u001b[0m\u001b[0m\n\u001b[0;32m      5\u001b[0m \u001b[1;33m\u001b[0m\u001b[0m\n",
      "\u001b[1;32m<ipython-input-7-9046fc2fc94f>\u001b[0m in \u001b[0;36mread_from_rtrud\u001b[1;34m(pname, ccode)\u001b[0m\n\u001b[0;32m      2\u001b[0m \u001b[1;32mdef\u001b[0m \u001b[0mread_from_rtrud\u001b[0m\u001b[1;33m(\u001b[0m\u001b[0mpname\u001b[0m\u001b[1;33m,\u001b[0m \u001b[0mccode\u001b[0m\u001b[1;33m)\u001b[0m\u001b[1;33m:\u001b[0m \u001b[1;31m#pname - навание вакансии, ccode - код города\u001b[0m\u001b[1;33m\u001b[0m\u001b[1;33m\u001b[0m\u001b[0m\n\u001b[0;32m      3\u001b[0m     \u001b[0mpname\u001b[0m \u001b[1;33m=\u001b[0m \u001b[0mpname\u001b[0m\u001b[1;33m.\u001b[0m\u001b[0mencode\u001b[0m\u001b[1;33m(\u001b[0m\u001b[1;34m\"utf-8\"\u001b[0m\u001b[1;33m)\u001b[0m\u001b[1;33m\u001b[0m\u001b[1;33m\u001b[0m\u001b[0m\n\u001b[1;32m----> 4\u001b[1;33m     \u001b[0mpname\u001b[0m \u001b[1;33m=\u001b[0m \u001b[0murllib\u001b[0m\u001b[1;33m.\u001b[0m\u001b[0mrequest\u001b[0m\u001b[1;33m.\u001b[0m\u001b[0mquote\u001b[0m\u001b[1;33m(\u001b[0m\u001b[0mpname\u001b[0m\u001b[1;33m)\u001b[0m\u001b[1;33m\u001b[0m\u001b[1;33m\u001b[0m\u001b[0m\n\u001b[0m\u001b[0;32m      5\u001b[0m \u001b[1;33m\u001b[0m\u001b[0m\n\u001b[0;32m      6\u001b[0m     with urllib.request.urlopen(\n",
      "\u001b[1;31mNameError\u001b[0m: name 'urllib' is not defined"
     ]
    }
   ],
   "source": [
    "# получение компетенций Костромской области с ресурсов РосТруд и HeadHunter\n",
    "text_KO_R_Trud = read_from_rtrud('Оператор станков с программным управлением', '44')\n",
    "text_KO_HH = read_from_hh('Оператор станков с программным управлением', '1771') # 1771 - Костромская область\n",
    "text_KO = list(set.union(set(text_KO_R_Trud), set(text_KO_HH)))\n",
    "\n",
    "# получение компетенций лидеров с ресурсов РосТруд и HeadHunter\n",
    "text_lid_R_Trud =  read_from_rtrud('Оператор станков с программным управлением', '50') # 50 - Московская область\n",
    "text_lid_HH = read_from_hh('Оператор станков с программным управлением', '1') # 1 - Московская область\n",
    "text_lid = list(set.union(set(text_lid_R_Trud), set(text_lid_HH)))\n",
    "\n"
   ]
  },
  {
   "cell_type": "code",
   "execution_count": 17,
   "metadata": {},
   "outputs": [
    {
     "ename": "NameError",
     "evalue": "name 'text_lid' is not defined",
     "output_type": "error",
     "traceback": [
      "\u001b[1;31m---------------------------------------------------------------------------\u001b[0m",
      "\u001b[1;31mNameError\u001b[0m                                 Traceback (most recent call last)",
      "\u001b[1;32m<ipython-input-17-5b2ef5331f54>\u001b[0m in \u001b[0;36m<module>\u001b[1;34m\u001b[0m\n\u001b[0;32m      1\u001b[0m \u001b[0mnew_text_lid\u001b[0m \u001b[1;33m=\u001b[0m \u001b[1;33m[\u001b[0m\u001b[1;33m]\u001b[0m\u001b[1;33m\u001b[0m\u001b[1;33m\u001b[0m\u001b[0m\n\u001b[1;32m----> 2\u001b[1;33m \u001b[1;32mfor\u001b[0m \u001b[0mnum\u001b[0m\u001b[1;33m,\u001b[0m \u001b[0mtext\u001b[0m \u001b[1;32min\u001b[0m \u001b[0menumerate\u001b[0m\u001b[1;33m(\u001b[0m\u001b[0mtext_lid\u001b[0m\u001b[1;33m)\u001b[0m\u001b[1;33m:\u001b[0m\u001b[1;33m\u001b[0m\u001b[1;33m\u001b[0m\u001b[0m\n\u001b[0m\u001b[0;32m      3\u001b[0m     \u001b[0mtext_lid\u001b[0m\u001b[1;33m[\u001b[0m\u001b[0mnum\u001b[0m\u001b[1;33m]\u001b[0m \u001b[1;33m=\u001b[0m \u001b[0mtext\u001b[0m\u001b[1;33m.\u001b[0m\u001b[0mreplace\u001b[0m\u001b[1;33m(\u001b[0m\u001b[1;34m'и т.п.'\u001b[0m\u001b[1;33m,\u001b[0m \u001b[1;34m'.'\u001b[0m\u001b[1;33m)\u001b[0m\u001b[1;33m\u001b[0m\u001b[1;33m\u001b[0m\u001b[0m\n\u001b[0;32m      4\u001b[0m     \u001b[0mtext_lid\u001b[0m\u001b[1;33m[\u001b[0m\u001b[0mnum\u001b[0m\u001b[1;33m]\u001b[0m \u001b[1;33m=\u001b[0m \u001b[0mtext\u001b[0m\u001b[1;33m.\u001b[0m\u001b[0mreplace\u001b[0m\u001b[1;33m(\u001b[0m\u001b[1;34m' - '\u001b[0m\u001b[1;33m,\u001b[0m \u001b[1;34m'.'\u001b[0m\u001b[1;33m)\u001b[0m\u001b[1;33m\u001b[0m\u001b[1;33m\u001b[0m\u001b[0m\n\u001b[0;32m      5\u001b[0m \u001b[1;32mfor\u001b[0m \u001b[0mtext\u001b[0m \u001b[1;32min\u001b[0m \u001b[0mtext_lid\u001b[0m\u001b[1;33m:\u001b[0m\u001b[1;33m\u001b[0m\u001b[1;33m\u001b[0m\u001b[0m\n",
      "\u001b[1;31mNameError\u001b[0m: name 'text_lid' is not defined"
     ]
    }
   ],
   "source": [
    "new_text_lid = []\n",
    "for num, text in enumerate(text_lid):\n",
    "    text_lid[num] = text.replace('и т.п.', '.')\n",
    "    text_lid[num] = text.replace(' - ', '.')\n",
    "for text in text_lid:\n",
    "    comp = text.split('.')\n",
    "    new_text_lid += comp\n",
    "text_lid = new_text_lid"
   ]
  },
  {
   "cell_type": "code",
   "execution_count": 18,
   "metadata": {},
   "outputs": [
    {
     "ename": "NameError",
     "evalue": "name 'text_KO' is not defined",
     "output_type": "error",
     "traceback": [
      "\u001b[1;31m---------------------------------------------------------------------------\u001b[0m",
      "\u001b[1;31mNameError\u001b[0m                                 Traceback (most recent call last)",
      "\u001b[1;32m<ipython-input-18-b974abeadebe>\u001b[0m in \u001b[0;36m<module>\u001b[1;34m\u001b[0m\n\u001b[1;32m----> 1\u001b[1;33m \u001b[0mres_KO_no_update\u001b[0m \u001b[1;33m=\u001b[0m \u001b[0mtext_KO\u001b[0m\u001b[1;33m\u001b[0m\u001b[1;33m\u001b[0m\u001b[0m\n\u001b[0m\u001b[0;32m      2\u001b[0m \u001b[0mres_lid_no_update\u001b[0m \u001b[1;33m=\u001b[0m \u001b[0mtext_lid\u001b[0m\u001b[1;33m\u001b[0m\u001b[1;33m\u001b[0m\u001b[0m\n",
      "\u001b[1;31mNameError\u001b[0m: name 'text_KO' is not defined"
     ]
    }
   ],
   "source": [
    "res_KO_no_update = text_KO\n",
    "res_lid_no_update = text_lid"
   ]
  },
  {
   "cell_type": "code",
   "execution_count": 19,
   "metadata": {},
   "outputs": [],
   "source": [
    "def program_analiz(text_KO, text_lid):\n",
    "    \n",
    "    #Чтение файлов\n",
    "    #res_KO, res_KO_no_update = AnalyText_from_excel(text_KO)\n",
    "    #res_lid, res_lid_no_update = AnalyText_from_excel(text_lid)\n",
    "    \n",
    "    res_KO, obshc_word_KO = AnalyText(text_KO)\n",
    "    res_lid, obshc_word_lid = AnalyText(text_lid)\n",
    "    \n",
    "\n",
    "    obshc_word = set.union(set(obshc_word_KO), set(obshc_word_lid))\n",
    "    \n",
    "    print(obshc_word)\n",
    "    \n",
    "    #Убрать  ''\n",
    "    res_KO = cler_space(res_KO)\n",
    "    res_lid = cler_space(res_lid)\n",
    "    \n",
    "\n",
    "    \n",
    "    res_KO = delete_obshc(res_KO, obshc_word)\n",
    "    res_lid = delete_obshc(res_lid, obshc_word)\n",
    "    \n",
    "    \n",
    "    #res_KO = norm_word(res_KO)\n",
    "    #res_lid = norm_word(res_lid)\n",
    "    \n",
    "    analitic_massive = interseption(res_lid, res_KO)\n",
    "    \n",
    "    \n",
    "    probability_analitic_massive = analitic_transform(analitic_massive, res_KO, res_lid)\n",
    "        \n",
    "    competention_lid, competention_KO, competention_inters = start_split(probability_analitic_massive, res_KO, res_lid)\n",
    "    \n",
    "    return competention_lid, competention_KO, competention_inters"
   ]
  },
  {
   "cell_type": "code",
   "execution_count": 20,
   "metadata": {
    "scrolled": true
   },
   "outputs": [
    {
     "ename": "NameError",
     "evalue": "name 'text_KO' is not defined",
     "output_type": "error",
     "traceback": [
      "\u001b[1;31m---------------------------------------------------------------------------\u001b[0m",
      "\u001b[1;31mNameError\u001b[0m                                 Traceback (most recent call last)",
      "\u001b[1;32m<ipython-input-20-da8f5ea9c7ba>\u001b[0m in \u001b[0;36m<module>\u001b[1;34m\u001b[0m\n\u001b[1;32m----> 1\u001b[1;33m \u001b[0mcompetention_lid\u001b[0m\u001b[1;33m,\u001b[0m \u001b[0mcompetention_KO\u001b[0m\u001b[1;33m,\u001b[0m \u001b[0mcompetention_inters\u001b[0m \u001b[1;33m=\u001b[0m \u001b[0mprogram_analiz\u001b[0m\u001b[1;33m(\u001b[0m\u001b[0mlist\u001b[0m\u001b[1;33m(\u001b[0m\u001b[0mtext_KO\u001b[0m\u001b[1;33m)\u001b[0m\u001b[1;33m,\u001b[0m \u001b[0mlist\u001b[0m\u001b[1;33m(\u001b[0m\u001b[0mtext_lid\u001b[0m\u001b[1;33m)\u001b[0m\u001b[1;33m)\u001b[0m\u001b[1;33m\u001b[0m\u001b[1;33m\u001b[0m\u001b[0m\n\u001b[0m",
      "\u001b[1;31mNameError\u001b[0m: name 'text_KO' is not defined"
     ]
    }
   ],
   "source": [
    "competention_lid, competention_KO, competention_inters = program_analiz(list(text_KO), list(text_lid))"
   ]
  },
  {
   "cell_type": "code",
   "execution_count": 21,
   "metadata": {},
   "outputs": [
    {
     "ename": "NameError",
     "evalue": "name 'competention_lid' is not defined",
     "output_type": "error",
     "traceback": [
      "\u001b[1;31m---------------------------------------------------------------------------\u001b[0m",
      "\u001b[1;31mNameError\u001b[0m                                 Traceback (most recent call last)",
      "\u001b[1;32m<ipython-input-21-166605439e0e>\u001b[0m in \u001b[0;36m<module>\u001b[1;34m\u001b[0m\n\u001b[1;32m----> 1\u001b[1;33m \u001b[0mcompetention_lid\u001b[0m\u001b[1;33m\u001b[0m\u001b[1;33m\u001b[0m\u001b[0m\n\u001b[0m",
      "\u001b[1;31mNameError\u001b[0m: name 'competention_lid' is not defined"
     ]
    }
   ],
   "source": [
    "competention_lid"
   ]
  },
  {
   "cell_type": "code",
   "execution_count": 13,
   "metadata": {},
   "outputs": [
    {
     "ename": "NameError",
     "evalue": "name 'competention_KO' is not defined",
     "output_type": "error",
     "traceback": [
      "\u001b[1;31m---------------------------------------------------------------------------\u001b[0m",
      "\u001b[1;31mNameError\u001b[0m                                 Traceback (most recent call last)",
      "\u001b[1;32m<ipython-input-13-a7bce4c9c354>\u001b[0m in \u001b[0;36m<module>\u001b[1;34m\u001b[0m\n\u001b[1;32m----> 1\u001b[1;33m \u001b[0mcompetention_KO\u001b[0m\u001b[1;33m\u001b[0m\u001b[1;33m\u001b[0m\u001b[0m\n\u001b[0m",
      "\u001b[1;31mNameError\u001b[0m: name 'competention_KO' is not defined"
     ]
    }
   ],
   "source": [
    "competention_KO"
   ]
  },
  {
   "cell_type": "code",
   "execution_count": 14,
   "metadata": {
    "scrolled": true
   },
   "outputs": [
    {
     "ename": "NameError",
     "evalue": "name 'competention_inters' is not defined",
     "output_type": "error",
     "traceback": [
      "\u001b[1;31m---------------------------------------------------------------------------\u001b[0m",
      "\u001b[1;31mNameError\u001b[0m                                 Traceback (most recent call last)",
      "\u001b[1;32m<ipython-input-14-1b6226eb152a>\u001b[0m in \u001b[0;36m<module>\u001b[1;34m\u001b[0m\n\u001b[1;32m----> 1\u001b[1;33m \u001b[0mcompetention_inters\u001b[0m\u001b[1;33m\u001b[0m\u001b[1;33m\u001b[0m\u001b[0m\n\u001b[0m",
      "\u001b[1;31mNameError\u001b[0m: name 'competention_inters' is not defined"
     ]
    }
   ],
   "source": [
    "competention_inters"
   ]
  },
  {
   "cell_type": "code",
   "execution_count": 15,
   "metadata": {},
   "outputs": [
    {
     "ename": "NameError",
     "evalue": "name 'competention_inters' is not defined",
     "output_type": "error",
     "traceback": [
      "\u001b[1;31m---------------------------------------------------------------------------\u001b[0m",
      "\u001b[1;31mNameError\u001b[0m                                 Traceback (most recent call last)",
      "\u001b[1;32m<ipython-input-15-19dc9346099b>\u001b[0m in \u001b[0;36m<module>\u001b[1;34m\u001b[0m\n\u001b[0;32m      1\u001b[0m \u001b[1;31m# вывод компетенций, характерных для обеих групп\u001b[0m\u001b[1;33m\u001b[0m\u001b[1;33m\u001b[0m\u001b[1;33m\u001b[0m\u001b[0m\n\u001b[1;32m----> 2\u001b[1;33m \u001b[1;32mfor\u001b[0m \u001b[0mkey\u001b[0m\u001b[1;33m,\u001b[0m \u001b[0mvalue\u001b[0m \u001b[1;32min\u001b[0m \u001b[0mcompetention_inters\u001b[0m\u001b[1;33m.\u001b[0m\u001b[0mitems\u001b[0m\u001b[1;33m(\u001b[0m\u001b[1;33m)\u001b[0m\u001b[1;33m:\u001b[0m\u001b[1;33m\u001b[0m\u001b[1;33m\u001b[0m\u001b[0m\n\u001b[0m\u001b[0;32m      3\u001b[0m     \u001b[0mprint\u001b[0m\u001b[1;33m(\u001b[0m\u001b[0mres_lid_no_update\u001b[0m\u001b[1;33m[\u001b[0m\u001b[0mkey\u001b[0m\u001b[1;33m]\u001b[0m\u001b[1;33m.\u001b[0m\u001b[0mupper\u001b[0m\u001b[1;33m(\u001b[0m\u001b[1;33m)\u001b[0m\u001b[1;33m)\u001b[0m\u001b[1;33m\u001b[0m\u001b[1;33m\u001b[0m\u001b[0m\n\u001b[0;32m      4\u001b[0m     \u001b[1;32mfor\u001b[0m \u001b[0mel\u001b[0m \u001b[1;32min\u001b[0m \u001b[0mvalue\u001b[0m\u001b[1;33m:\u001b[0m\u001b[1;33m\u001b[0m\u001b[1;33m\u001b[0m\u001b[0m\n\u001b[0;32m      5\u001b[0m         \u001b[0mprint\u001b[0m\u001b[1;33m(\u001b[0m\u001b[0mres_KO_no_update\u001b[0m\u001b[1;33m[\u001b[0m\u001b[0mel\u001b[0m\u001b[1;33m]\u001b[0m\u001b[1;33m.\u001b[0m\u001b[0mlower\u001b[0m\u001b[1;33m(\u001b[0m\u001b[1;33m)\u001b[0m\u001b[1;33m)\u001b[0m\u001b[1;33m\u001b[0m\u001b[1;33m\u001b[0m\u001b[0m\n",
      "\u001b[1;31mNameError\u001b[0m: name 'competention_inters' is not defined"
     ]
    }
   ],
   "source": [
    "# вывод компетенций, характерных для обеих групп\n",
    "for key, value in competention_inters.items():\n",
    "    print(res_lid_no_update[key].upper())\n",
    "    for el in value:\n",
    "        print(res_KO_no_update[el].lower())\n",
    "    print()\n",
    "    print()"
   ]
  },
  {
   "cell_type": "code",
   "execution_count": 16,
   "metadata": {},
   "outputs": [
    {
     "ename": "NameError",
     "evalue": "name 'competention_lid' is not defined",
     "output_type": "error",
     "traceback": [
      "\u001b[1;31m---------------------------------------------------------------------------\u001b[0m",
      "\u001b[1;31mNameError\u001b[0m                                 Traceback (most recent call last)",
      "\u001b[1;32m<ipython-input-16-930ecaab3a6b>\u001b[0m in \u001b[0;36m<module>\u001b[1;34m\u001b[0m\n\u001b[1;32m----> 1\u001b[1;33m \u001b[1;32mfor\u001b[0m \u001b[0mel\u001b[0m \u001b[1;32min\u001b[0m \u001b[0mcompetention_lid\u001b[0m\u001b[1;33m:\u001b[0m\u001b[1;33m\u001b[0m\u001b[1;33m\u001b[0m\u001b[0m\n\u001b[0m\u001b[0;32m      2\u001b[0m     \u001b[0mprint\u001b[0m\u001b[1;33m(\u001b[0m\u001b[0mres_lid_no_update\u001b[0m\u001b[1;33m[\u001b[0m\u001b[0mel\u001b[0m\u001b[1;33m]\u001b[0m\u001b[1;33m)\u001b[0m\u001b[1;33m\u001b[0m\u001b[1;33m\u001b[0m\u001b[0m\n\u001b[0;32m      3\u001b[0m     \u001b[0mprint\u001b[0m\u001b[1;33m(\u001b[0m\u001b[1;33m)\u001b[0m\u001b[1;33m\u001b[0m\u001b[1;33m\u001b[0m\u001b[0m\n",
      "\u001b[1;31mNameError\u001b[0m: name 'competention_lid' is not defined"
     ]
    }
   ],
   "source": [
    "for el in competention_lid:\n",
    "    print(res_lid_no_update[el])\n",
    "    print()"
   ]
  },
  {
   "cell_type": "code",
   "execution_count": 17,
   "metadata": {},
   "outputs": [
    {
     "ename": "NameError",
     "evalue": "name 'ппрпорп' is not defined",
     "output_type": "error",
     "traceback": [
      "\u001b[1;31m---------------------------------------------------------------------------\u001b[0m",
      "\u001b[1;31mNameError\u001b[0m                                 Traceback (most recent call last)",
      "\u001b[1;32m<ipython-input-17-50fca822c0a1>\u001b[0m in \u001b[0;36m<module>\u001b[1;34m\u001b[0m\n\u001b[1;32m----> 1\u001b[1;33m \u001b[0mппрпорп\u001b[0m\u001b[1;33m\u001b[0m\u001b[1;33m\u001b[0m\u001b[0m\n\u001b[0m",
      "\u001b[1;31mNameError\u001b[0m: name 'ппрпорп' is not defined"
     ]
    }
   ],
   "source": [
    "ппрпорп"
   ]
  },
  {
   "cell_type": "code",
   "execution_count": 18,
   "metadata": {},
   "outputs": [],
   "source": [
    "# списки только лидерских и только костромских компетенций оказались слишком большими для ручной обработки,\n",
    "# поэтому для сокращения количества данных были выделены компетенции с ключевыми словами (слова, которые встречаются наиболее часто)"
   ]
  },
  {
   "cell_type": "code",
   "execution_count": 19,
   "metadata": {},
   "outputs": [
    {
     "ename": "NameError",
     "evalue": "name 'competention_inters' is not defined",
     "output_type": "error",
     "traceback": [
      "\u001b[1;31m---------------------------------------------------------------------------\u001b[0m",
      "\u001b[1;31mNameError\u001b[0m                                 Traceback (most recent call last)",
      "\u001b[1;32m<ipython-input-19-a0022635cbf7>\u001b[0m in \u001b[0;36m<module>\u001b[1;34m\u001b[0m\n\u001b[0;32m      3\u001b[0m \u001b[0mKO_comp_text\u001b[0m \u001b[1;33m=\u001b[0m \u001b[1;33m[\u001b[0m\u001b[1;33m]\u001b[0m\u001b[1;33m\u001b[0m\u001b[1;33m\u001b[0m\u001b[0m\n\u001b[0;32m      4\u001b[0m \u001b[1;33m\u001b[0m\u001b[0m\n\u001b[1;32m----> 5\u001b[1;33m \u001b[1;32mfor\u001b[0m \u001b[0mkey\u001b[0m\u001b[1;33m,\u001b[0m \u001b[0mvalue\u001b[0m \u001b[1;32min\u001b[0m \u001b[0mcompetention_inters\u001b[0m\u001b[1;33m.\u001b[0m\u001b[0mitems\u001b[0m\u001b[1;33m(\u001b[0m\u001b[1;33m)\u001b[0m\u001b[1;33m:\u001b[0m\u001b[1;33m\u001b[0m\u001b[1;33m\u001b[0m\u001b[0m\n\u001b[0m\u001b[0;32m      6\u001b[0m     \u001b[0mobshch_comp_text\u001b[0m\u001b[1;33m.\u001b[0m\u001b[0mappend\u001b[0m\u001b[1;33m(\u001b[0m\u001b[0mres_lid_no_update\u001b[0m\u001b[1;33m[\u001b[0m\u001b[0mkey\u001b[0m\u001b[1;33m]\u001b[0m\u001b[1;33m)\u001b[0m\u001b[1;33m\u001b[0m\u001b[1;33m\u001b[0m\u001b[0m\n\u001b[0;32m      7\u001b[0m     \u001b[1;32mfor\u001b[0m \u001b[0mel\u001b[0m \u001b[1;32min\u001b[0m \u001b[0mvalue\u001b[0m\u001b[1;33m:\u001b[0m\u001b[1;33m\u001b[0m\u001b[1;33m\u001b[0m\u001b[0m\n",
      "\u001b[1;31mNameError\u001b[0m: name 'competention_inters' is not defined"
     ]
    }
   ],
   "source": [
    "obshch_comp_text = []\n",
    "lid_comp_text = []\n",
    "KO_comp_text = []\n",
    "\n",
    "for key, value in competention_inters.items():\n",
    "    obshch_comp_text.append(res_lid_no_update[key])\n",
    "    for el in value:\n",
    "        obshch_comp_text.append(res_KO_no_update[el])\n",
    "\n",
    "for el in competention_lid:\n",
    "    lid_comp_text.append(res_lid_no_update[el])\n",
    "\n",
    "for el in competention_KO:\n",
    "    KO_comp_text.append(res_KO_no_update[el])"
   ]
  },
  {
   "cell_type": "code",
   "execution_count": 20,
   "metadata": {},
   "outputs": [],
   "source": [
    "obshch_comp_text = list(set(obshch_comp_text))\n",
    "lid_comp_text = list(set(lid_comp_text))\n",
    "KO_comp_text = list(set(KO_comp_text))"
   ]
  },
  {
   "cell_type": "code",
   "execution_count": 21,
   "metadata": {},
   "outputs": [
    {
     "ename": "NameError",
     "evalue": "name 'pymorphy2' is not defined",
     "output_type": "error",
     "traceback": [
      "\u001b[1;31m---------------------------------------------------------------------------\u001b[0m",
      "\u001b[1;31mNameError\u001b[0m                                 Traceback (most recent call last)",
      "\u001b[1;32m<ipython-input-21-8cc99bf84e19>\u001b[0m in \u001b[0;36m<module>\u001b[1;34m\u001b[0m\n\u001b[1;32m----> 1\u001b[1;33m \u001b[0mobshch_analyz\u001b[0m\u001b[1;33m,\u001b[0m \u001b[0mchast_word_obshch_comp\u001b[0m \u001b[1;33m=\u001b[0m \u001b[0mAnalyText\u001b[0m\u001b[1;33m(\u001b[0m\u001b[0mobshch_comp_text\u001b[0m\u001b[1;33m)\u001b[0m\u001b[1;33m\u001b[0m\u001b[1;33m\u001b[0m\u001b[0m\n\u001b[0m\u001b[0;32m      2\u001b[0m \u001b[0mlid_analyz\u001b[0m\u001b[1;33m,\u001b[0m \u001b[0mchast_word_lid_comp\u001b[0m \u001b[1;33m=\u001b[0m \u001b[0mAnalyText\u001b[0m\u001b[1;33m(\u001b[0m\u001b[0mlid_comp_text\u001b[0m\u001b[1;33m)\u001b[0m\u001b[1;33m\u001b[0m\u001b[1;33m\u001b[0m\u001b[0m\n\u001b[0;32m      3\u001b[0m \u001b[0mKO_analyz\u001b[0m\u001b[1;33m,\u001b[0m \u001b[0mchast_word_KO_comp\u001b[0m \u001b[1;33m=\u001b[0m \u001b[0mAnalyText\u001b[0m\u001b[1;33m(\u001b[0m\u001b[0mKO_comp_text\u001b[0m\u001b[1;33m)\u001b[0m\u001b[1;33m\u001b[0m\u001b[1;33m\u001b[0m\u001b[0m\n",
      "\u001b[1;32m<ipython-input-7-cdf65c80619f>\u001b[0m in \u001b[0;36mAnalyText\u001b[1;34m(text_list)\u001b[0m\n\u001b[0;32m      5\u001b[0m     \u001b[0mobshc_word\u001b[0m \u001b[1;33m=\u001b[0m \u001b[1;33m[\u001b[0m\u001b[1;33m]\u001b[0m\u001b[1;33m\u001b[0m\u001b[1;33m\u001b[0m\u001b[0m\n\u001b[0;32m      6\u001b[0m     \u001b[0mN\u001b[0m\u001b[1;33m=\u001b[0m\u001b[1;36m0\u001b[0m\u001b[1;33m\u001b[0m\u001b[1;33m\u001b[0m\u001b[0m\n\u001b[1;32m----> 7\u001b[1;33m     \u001b[0mmorph\u001b[0m \u001b[1;33m=\u001b[0m \u001b[0mpymorphy2\u001b[0m\u001b[1;33m.\u001b[0m\u001b[0mMorphAnalyzer\u001b[0m\u001b[1;33m(\u001b[0m\u001b[1;33m)\u001b[0m\u001b[1;33m\u001b[0m\u001b[1;33m\u001b[0m\u001b[0m\n\u001b[0m\u001b[0;32m      8\u001b[0m     \u001b[0mword_in_str\u001b[0m \u001b[1;33m=\u001b[0m \u001b[1;33m[\u001b[0m\u001b[1;33m]\u001b[0m\u001b[1;33m\u001b[0m\u001b[1;33m\u001b[0m\u001b[0m\n\u001b[0;32m      9\u001b[0m \u001b[1;33m\u001b[0m\u001b[0m\n",
      "\u001b[1;31mNameError\u001b[0m: name 'pymorphy2' is not defined"
     ]
    }
   ],
   "source": [
    "obshch_analyz, chast_word_obshch_comp = AnalyText(obshch_comp_text)\n",
    "lid_analyz, chast_word_lid_comp = AnalyText(lid_comp_text)\n",
    "KO_analyz, chast_word_KO_comp = AnalyText(KO_comp_text)"
   ]
  },
  {
   "cell_type": "code",
   "execution_count": 22,
   "metadata": {},
   "outputs": [
    {
     "ename": "NameError",
     "evalue": "name 'chast_word_obshch_comp' is not defined",
     "output_type": "error",
     "traceback": [
      "\u001b[1;31m---------------------------------------------------------------------------\u001b[0m",
      "\u001b[1;31mNameError\u001b[0m                                 Traceback (most recent call last)",
      "\u001b[1;32m<ipython-input-22-19b964fc0c5e>\u001b[0m in \u001b[0;36m<module>\u001b[1;34m\u001b[0m\n\u001b[1;32m----> 1\u001b[1;33m \u001b[0mchast_word_obshch_comp\u001b[0m\u001b[1;33m\u001b[0m\u001b[1;33m\u001b[0m\u001b[0m\n\u001b[0m",
      "\u001b[1;31mNameError\u001b[0m: name 'chast_word_obshch_comp' is not defined"
     ]
    }
   ],
   "source": [
    "chast_word_obshch_comp"
   ]
  },
  {
   "cell_type": "code",
   "execution_count": 23,
   "metadata": {},
   "outputs": [
    {
     "ename": "NameError",
     "evalue": "name 'chast_word_lid_comp' is not defined",
     "output_type": "error",
     "traceback": [
      "\u001b[1;31m---------------------------------------------------------------------------\u001b[0m",
      "\u001b[1;31mNameError\u001b[0m                                 Traceback (most recent call last)",
      "\u001b[1;32m<ipython-input-23-0e6a25d3e7e1>\u001b[0m in \u001b[0;36m<module>\u001b[1;34m\u001b[0m\n\u001b[1;32m----> 1\u001b[1;33m \u001b[0mchast_word_lid_comp\u001b[0m\u001b[1;33m\u001b[0m\u001b[1;33m\u001b[0m\u001b[0m\n\u001b[0m",
      "\u001b[1;31mNameError\u001b[0m: name 'chast_word_lid_comp' is not defined"
     ]
    }
   ],
   "source": [
    "chast_word_lid_comp"
   ]
  },
  {
   "cell_type": "code",
   "execution_count": 24,
   "metadata": {},
   "outputs": [
    {
     "ename": "NameError",
     "evalue": "name 'chast_word_KO_comp' is not defined",
     "output_type": "error",
     "traceback": [
      "\u001b[1;31m---------------------------------------------------------------------------\u001b[0m",
      "\u001b[1;31mNameError\u001b[0m                                 Traceback (most recent call last)",
      "\u001b[1;32m<ipython-input-24-b7e6ee227a2f>\u001b[0m in \u001b[0;36m<module>\u001b[1;34m\u001b[0m\n\u001b[1;32m----> 1\u001b[1;33m \u001b[0mchast_word_KO_comp\u001b[0m\u001b[1;33m\u001b[0m\u001b[1;33m\u001b[0m\u001b[0m\n\u001b[0m",
      "\u001b[1;31mNameError\u001b[0m: name 'chast_word_KO_comp' is not defined"
     ]
    }
   ],
   "source": [
    "chast_word_KO_comp"
   ]
  },
  {
   "cell_type": "code",
   "execution_count": 25,
   "metadata": {},
   "outputs": [
    {
     "ename": "NameError",
     "evalue": "name 'chast_word_lid_comp' is not defined",
     "output_type": "error",
     "traceback": [
      "\u001b[1;31m---------------------------------------------------------------------------\u001b[0m",
      "\u001b[1;31mNameError\u001b[0m                                 Traceback (most recent call last)",
      "\u001b[1;32m<ipython-input-25-063285a523c8>\u001b[0m in \u001b[0;36m<module>\u001b[1;34m\u001b[0m\n\u001b[1;32m----> 1\u001b[1;33m \u001b[0mlid_minus_KO\u001b[0m \u001b[1;33m=\u001b[0m \u001b[0mset\u001b[0m\u001b[1;33m.\u001b[0m\u001b[0mdifference\u001b[0m\u001b[1;33m(\u001b[0m\u001b[0mset\u001b[0m\u001b[1;33m(\u001b[0m\u001b[0mchast_word_lid_comp\u001b[0m\u001b[1;33m)\u001b[0m\u001b[1;33m,\u001b[0m \u001b[0mset\u001b[0m\u001b[1;33m(\u001b[0m\u001b[0mchast_word_KO_comp\u001b[0m\u001b[1;33m)\u001b[0m\u001b[1;33m)\u001b[0m\u001b[1;33m\u001b[0m\u001b[1;33m\u001b[0m\u001b[0m\n\u001b[0m\u001b[0;32m      2\u001b[0m \u001b[0mpprint\u001b[0m\u001b[1;33m.\u001b[0m\u001b[0mpprint\u001b[0m\u001b[1;33m(\u001b[0m\u001b[0mlid_minus_KO\u001b[0m\u001b[1;33m)\u001b[0m\u001b[1;33m\u001b[0m\u001b[1;33m\u001b[0m\u001b[0m\n\u001b[0;32m      3\u001b[0m \u001b[0mlid_minus_KO\u001b[0m \u001b[1;33m=\u001b[0m \u001b[0mset\u001b[0m\u001b[1;33m.\u001b[0m\u001b[0mdifference\u001b[0m\u001b[1;33m(\u001b[0m\u001b[0mset\u001b[0m\u001b[1;33m(\u001b[0m\u001b[0mlid_minus_KO\u001b[0m\u001b[1;33m)\u001b[0m\u001b[1;33m,\u001b[0m \u001b[0mset\u001b[0m\u001b[1;33m(\u001b[0m\u001b[0mchast_word_obshch_comp\u001b[0m\u001b[1;33m)\u001b[0m\u001b[1;33m)\u001b[0m\u001b[1;33m\u001b[0m\u001b[1;33m\u001b[0m\u001b[0m\n\u001b[0;32m      4\u001b[0m \u001b[0mlid_minus_KO\u001b[0m\u001b[1;33m\u001b[0m\u001b[1;33m\u001b[0m\u001b[0m\n",
      "\u001b[1;31mNameError\u001b[0m: name 'chast_word_lid_comp' is not defined"
     ]
    }
   ],
   "source": [
    "lid_minus_KO = set.difference(set(chast_word_lid_comp), set(chast_word_KO_comp))\n",
    "pprint.pprint(lid_minus_KO)\n",
    "lid_minus_KO = set.difference(set(lid_minus_KO), set(chast_word_obshch_comp))\n",
    "lid_minus_KO"
   ]
  },
  {
   "cell_type": "code",
   "execution_count": 26,
   "metadata": {},
   "outputs": [
    {
     "ename": "NameError",
     "evalue": "name 'lid_analyz' is not defined",
     "output_type": "error",
     "traceback": [
      "\u001b[1;31m---------------------------------------------------------------------------\u001b[0m",
      "\u001b[1;31mNameError\u001b[0m                                 Traceback (most recent call last)",
      "\u001b[1;32m<ipython-input-26-ad1255962dde>\u001b[0m in \u001b[0;36m<module>\u001b[1;34m\u001b[0m\n\u001b[0;32m      2\u001b[0m \u001b[0mnum_comp\u001b[0m \u001b[1;33m=\u001b[0m \u001b[1;33m{\u001b[0m\u001b[1;34m'лазерный'\u001b[0m\u001b[1;33m:\u001b[0m \u001b[1;33m[\u001b[0m\u001b[1;33m]\u001b[0m\u001b[1;33m,\u001b[0m \u001b[1;34m'оператор'\u001b[0m\u001b[1;33m:\u001b[0m \u001b[1;33m[\u001b[0m\u001b[1;33m]\u001b[0m\u001b[1;33m,\u001b[0m \u001b[1;34m'программа'\u001b[0m\u001b[1;33m:\u001b[0m \u001b[1;33m[\u001b[0m\u001b[1;33m]\u001b[0m\u001b[1;33m,\u001b[0m \u001b[1;34m'чпу'\u001b[0m\u001b[1;33m:\u001b[0m \u001b[1;33m[\u001b[0m\u001b[1;33m]\u001b[0m\u001b[1;33m}\u001b[0m\u001b[1;33m\u001b[0m\u001b[1;33m\u001b[0m\u001b[0m\n\u001b[0;32m      3\u001b[0m \u001b[1;32mfor\u001b[0m \u001b[0mword\u001b[0m \u001b[1;32min\u001b[0m \u001b[0mlid_minus_KO\u001b[0m\u001b[1;33m:\u001b[0m\u001b[1;33m\u001b[0m\u001b[1;33m\u001b[0m\u001b[0m\n\u001b[1;32m----> 4\u001b[1;33m     \u001b[1;32mfor\u001b[0m \u001b[0mnum\u001b[0m\u001b[1;33m,\u001b[0m \u001b[0mlist_word\u001b[0m \u001b[1;32min\u001b[0m \u001b[0menumerate\u001b[0m\u001b[1;33m(\u001b[0m\u001b[0mlid_analyz\u001b[0m\u001b[1;33m)\u001b[0m\u001b[1;33m:\u001b[0m\u001b[1;33m\u001b[0m\u001b[1;33m\u001b[0m\u001b[0m\n\u001b[0m\u001b[0;32m      5\u001b[0m         \u001b[1;32mif\u001b[0m \u001b[0mword\u001b[0m \u001b[1;32min\u001b[0m \u001b[0mlist_word\u001b[0m\u001b[1;33m:\u001b[0m\u001b[1;33m\u001b[0m\u001b[1;33m\u001b[0m\u001b[0m\n\u001b[0;32m      6\u001b[0m             \u001b[0mnum_comp\u001b[0m\u001b[1;33m[\u001b[0m\u001b[0mword\u001b[0m\u001b[1;33m]\u001b[0m\u001b[1;33m.\u001b[0m\u001b[0mappend\u001b[0m\u001b[1;33m(\u001b[0m\u001b[0mnum\u001b[0m\u001b[1;33m)\u001b[0m\u001b[1;33m\u001b[0m\u001b[1;33m\u001b[0m\u001b[0m\n",
      "\u001b[1;31mNameError\u001b[0m: name 'lid_analyz' is not defined"
     ]
    }
   ],
   "source": [
    "lid_minus_KO = ['лазерный', 'оператор', 'программа', 'чпу']\n",
    "num_comp = {'лазерный': [], 'оператор': [], 'программа': [], 'чпу': []}\n",
    "for word in lid_minus_KO:\n",
    "    for num, list_word in enumerate(lid_analyz):\n",
    "        if word in list_word:\n",
    "            num_comp[word].append(num)\n",
    "num_comp"
   ]
  },
  {
   "cell_type": "code",
   "execution_count": 27,
   "metadata": {},
   "outputs": [
    {
     "name": "stdout",
     "output_type": "stream",
     "text": [
      "ЛАЗЕРНЫЙ\n",
      "\n",
      "ОПЕРАТОР\n",
      "\n",
      "ПРОГРАММА\n",
      "\n",
      "ЧПУ\n",
      "\n"
     ]
    }
   ],
   "source": [
    "for key, value in num_comp.items():\n",
    "    print(key.upper())\n",
    "    for el in value:\n",
    "        print(lid_comp_text[el])\n",
    "    print()"
   ]
  },
  {
   "cell_type": "code",
   "execution_count": null,
   "metadata": {},
   "outputs": [],
   "source": []
  },
  {
   "cell_type": "code",
   "execution_count": 28,
   "metadata": {},
   "outputs": [
    {
     "ename": "NameError",
     "evalue": "name 'chast_word_KO_comp' is not defined",
     "output_type": "error",
     "traceback": [
      "\u001b[1;31m---------------------------------------------------------------------------\u001b[0m",
      "\u001b[1;31mNameError\u001b[0m                                 Traceback (most recent call last)",
      "\u001b[1;32m<ipython-input-28-edda356efd3b>\u001b[0m in \u001b[0;36m<module>\u001b[1;34m\u001b[0m\n\u001b[1;32m----> 1\u001b[1;33m \u001b[0mKO_minus_lid\u001b[0m \u001b[1;33m=\u001b[0m \u001b[0mset\u001b[0m\u001b[1;33m.\u001b[0m\u001b[0mdifference\u001b[0m\u001b[1;33m(\u001b[0m\u001b[0mset\u001b[0m\u001b[1;33m(\u001b[0m\u001b[0mchast_word_KO_comp\u001b[0m\u001b[1;33m)\u001b[0m\u001b[1;33m,\u001b[0m \u001b[0mset\u001b[0m\u001b[1;33m(\u001b[0m\u001b[0mchast_word_lid_comp\u001b[0m\u001b[1;33m)\u001b[0m\u001b[1;33m)\u001b[0m\u001b[1;33m\u001b[0m\u001b[1;33m\u001b[0m\u001b[0m\n\u001b[0m\u001b[0;32m      2\u001b[0m \u001b[0mprint\u001b[0m\u001b[1;33m(\u001b[0m\u001b[0mKO_minus_lid\u001b[0m\u001b[1;33m)\u001b[0m\u001b[1;33m\u001b[0m\u001b[1;33m\u001b[0m\u001b[0m\n\u001b[0;32m      3\u001b[0m \u001b[0mKO_minus_lid\u001b[0m \u001b[1;33m=\u001b[0m \u001b[0mset\u001b[0m\u001b[1;33m.\u001b[0m\u001b[0mdifference\u001b[0m\u001b[1;33m(\u001b[0m\u001b[0mset\u001b[0m\u001b[1;33m(\u001b[0m\u001b[0mKO_minus_lid\u001b[0m\u001b[1;33m)\u001b[0m\u001b[1;33m,\u001b[0m \u001b[0mset\u001b[0m\u001b[1;33m(\u001b[0m\u001b[0mchast_word_obshch_comp\u001b[0m\u001b[1;33m)\u001b[0m\u001b[1;33m)\u001b[0m\u001b[1;33m\u001b[0m\u001b[1;33m\u001b[0m\u001b[0m\n\u001b[0;32m      4\u001b[0m \u001b[0mprint\u001b[0m\u001b[1;33m(\u001b[0m\u001b[0mKO_minus_lid\u001b[0m\u001b[1;33m)\u001b[0m\u001b[1;33m\u001b[0m\u001b[1;33m\u001b[0m\u001b[0m\n",
      "\u001b[1;31mNameError\u001b[0m: name 'chast_word_KO_comp' is not defined"
     ]
    }
   ],
   "source": [
    "KO_minus_lid = set.difference(set(chast_word_KO_comp), set(chast_word_lid_comp))\n",
    "print(KO_minus_lid)\n",
    "KO_minus_lid = set.difference(set(KO_minus_lid), set(chast_word_obshch_comp))\n",
    "print(KO_minus_lid)"
   ]
  },
  {
   "cell_type": "code",
   "execution_count": 29,
   "metadata": {},
   "outputs": [
    {
     "ename": "NameError",
     "evalue": "name 'KO_analyz' is not defined",
     "output_type": "error",
     "traceback": [
      "\u001b[1;31m---------------------------------------------------------------------------\u001b[0m",
      "\u001b[1;31mNameError\u001b[0m                                 Traceback (most recent call last)",
      "\u001b[1;32m<ipython-input-29-e2357af0dad2>\u001b[0m in \u001b[0;36m<module>\u001b[1;34m\u001b[0m\n\u001b[0;32m      2\u001b[0m \u001b[0mnum_comp\u001b[0m \u001b[1;33m=\u001b[0m \u001b[1;33m{\u001b[0m\u001b[1;34m'пульт'\u001b[0m\u001b[1;33m:\u001b[0m \u001b[1;33m[\u001b[0m\u001b[1;33m]\u001b[0m\u001b[1;33m,\u001b[0m\u001b[1;34m'механизм'\u001b[0m\u001b[1;33m:\u001b[0m \u001b[1;33m[\u001b[0m\u001b[1;33m]\u001b[0m\u001b[1;33m,\u001b[0m\u001b[1;34m'подналадка'\u001b[0m\u001b[1;33m:\u001b[0m \u001b[1;33m[\u001b[0m\u001b[1;33m]\u001b[0m\u001b[1;33m,\u001b[0m\u001b[1;34m'измерительный'\u001b[0m\u001b[1;33m:\u001b[0m \u001b[1;33m[\u001b[0m\u001b[1;33m]\u001b[0m\u001b[1;33m,\u001b[0m \u001b[1;34m'инструкция'\u001b[0m\u001b[1;33m:\u001b[0m \u001b[1;33m[\u001b[0m\u001b[1;33m]\u001b[0m\u001b[1;33m,\u001b[0m \u001b[1;34m'пользоваться'\u001b[0m\u001b[1;33m:\u001b[0m \u001b[1;33m[\u001b[0m\u001b[1;33m]\u001b[0m\u001b[1;33m,\u001b[0m \u001b[1;34m'профильный'\u001b[0m\u001b[1;33m:\u001b[0m \u001b[1;33m[\u001b[0m\u001b[1;33m]\u001b[0m\u001b[1;33m}\u001b[0m\u001b[1;33m\u001b[0m\u001b[1;33m\u001b[0m\u001b[0m\n\u001b[0;32m      3\u001b[0m \u001b[1;32mfor\u001b[0m \u001b[0mword\u001b[0m \u001b[1;32min\u001b[0m \u001b[0mKO_minus_lid\u001b[0m\u001b[1;33m:\u001b[0m\u001b[1;33m\u001b[0m\u001b[1;33m\u001b[0m\u001b[0m\n\u001b[1;32m----> 4\u001b[1;33m     \u001b[1;32mfor\u001b[0m \u001b[0mnum\u001b[0m\u001b[1;33m,\u001b[0m \u001b[0mlist_word\u001b[0m \u001b[1;32min\u001b[0m \u001b[0menumerate\u001b[0m\u001b[1;33m(\u001b[0m\u001b[0mKO_analyz\u001b[0m\u001b[1;33m)\u001b[0m\u001b[1;33m:\u001b[0m\u001b[1;33m\u001b[0m\u001b[1;33m\u001b[0m\u001b[0m\n\u001b[0m\u001b[0;32m      5\u001b[0m         \u001b[1;32mif\u001b[0m \u001b[0mword\u001b[0m \u001b[1;32min\u001b[0m \u001b[0mlist_word\u001b[0m\u001b[1;33m:\u001b[0m\u001b[1;33m\u001b[0m\u001b[1;33m\u001b[0m\u001b[0m\n\u001b[0;32m      6\u001b[0m             \u001b[0mnum_comp\u001b[0m\u001b[1;33m[\u001b[0m\u001b[0mword\u001b[0m\u001b[1;33m]\u001b[0m\u001b[1;33m.\u001b[0m\u001b[0mappend\u001b[0m\u001b[1;33m(\u001b[0m\u001b[0mnum\u001b[0m\u001b[1;33m)\u001b[0m\u001b[1;33m\u001b[0m\u001b[1;33m\u001b[0m\u001b[0m\n",
      "\u001b[1;31mNameError\u001b[0m: name 'KO_analyz' is not defined"
     ]
    }
   ],
   "source": [
    "KO_minus_lid = [ 'пульт','механизм','подналадка','измерительный', 'инструкция', 'пользоваться', 'профильный']\n",
    "num_comp = {'пульт': [],'механизм': [],'подналадка': [],'измерительный': [], 'инструкция': [], 'пользоваться': [], 'профильный': []}\n",
    "for word in KO_minus_lid:\n",
    "    for num, list_word in enumerate(KO_analyz):\n",
    "        if word in list_word:\n",
    "            num_comp[word].append(num)\n",
    "num_comp"
   ]
  },
  {
   "cell_type": "code",
   "execution_count": 30,
   "metadata": {},
   "outputs": [
    {
     "name": "stdout",
     "output_type": "stream",
     "text": [
      "ПУЛЬТ\n",
      "\n",
      "МЕХАНИЗМ\n",
      "\n",
      "ПОДНАЛАДКА\n",
      "\n",
      "ИЗМЕРИТЕЛЬНЫЙ\n",
      "\n",
      "ИНСТРУКЦИЯ\n",
      "\n",
      "ПОЛЬЗОВАТЬСЯ\n",
      "\n",
      "ПРОФИЛЬНЫЙ\n",
      "\n"
     ]
    }
   ],
   "source": [
    "for key, value in num_comp.items():\n",
    "    print(key.upper())\n",
    "    for el in value:\n",
    "        print(KO_comp_text[el])\n",
    "    print()"
   ]
  },
  {
   "cell_type": "code",
   "execution_count": null,
   "metadata": {},
   "outputs": [],
   "source": []
  },
  {
   "cell_type": "code",
   "execution_count": null,
   "metadata": {},
   "outputs": [],
   "source": []
  },
  {
   "cell_type": "code",
   "execution_count": null,
   "metadata": {},
   "outputs": [],
   "source": []
  }
 ],
 "metadata": {
  "kernelspec": {
   "display_name": "Python 3",
   "language": "python",
   "name": "python3"
  },
  "language_info": {
   "codemirror_mode": {
    "name": "ipython",
    "version": 3
   },
   "file_extension": ".py",
   "mimetype": "text/x-python",
   "name": "python",
   "nbconvert_exporter": "python",
   "pygments_lexer": "ipython3",
   "version": "3.7.3"
  }
 },
 "nbformat": 4,
 "nbformat_minor": 2
}
